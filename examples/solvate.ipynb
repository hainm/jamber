{
 "cells": [
  {
   "cell_type": "code",
   "execution_count": 2,
   "metadata": {
    "collapsed": true
   },
   "outputs": [],
   "source": [
    "from jamber.builder import build_protein, solvate"
   ]
  },
  {
   "cell_type": "code",
   "execution_count": 3,
   "metadata": {
    "collapsed": true
   },
   "outputs": [],
   "source": [
    "traj = build_protein('ALA ALA ALA ALA', ['alpha:1-4'])\n",
    "traj.visualize()"
   ]
  },
  {
   "cell_type": "code",
   "execution_count": 4,
   "metadata": {
    "collapsed": true
   },
   "outputs": [],
   "source": [
    "solvate(traj).visualize()"
   ]
  }
 ],
 "metadata": {
  "kernelspec": {
   "display_name": "Python 3",
   "language": "python",
   "name": "python3"
  },
  "language_info": {
   "codemirror_mode": {
    "name": "ipython",
    "version": 3
   },
   "file_extension": ".py",
   "mimetype": "text/x-python",
   "name": "python",
   "nbconvert_exporter": "python",
   "pygments_lexer": "ipython3",
   "version": "3.5.1"
  },
  "widgets": {
   "state": {
    "14914668a25d44ca90ae814f841d95ab": {
     "views": [
      {
       "cell_index": 2
      }
     ]
    },
    "5658c9c0bd2c4ce3aa9c9bfac41fd7d2": {
     "views": [
      {
       "cell_index": 1
      }
     ]
    },
    "c49693f03cce432884b58662fbca80f1": {
     "views": [
      {
       "cell_index": 1
      }
     ]
    },
    "d13b60b705334751845a3a07fbd94863": {
     "views": [
      {
       "cell_index": 2
      }
     ]
    }
   },
   "version": "1.2.0"
  }
 },
 "nbformat": 4,
 "nbformat_minor": 0
}
