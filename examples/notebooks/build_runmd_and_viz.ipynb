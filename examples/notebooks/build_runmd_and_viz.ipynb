{
 "cells": [
  {
   "cell_type": "markdown",
   "metadata": {},
   "source": [
    "# Require\n",
    "\n",
    "- pytraj: >= 1.0.9\n",
    "- nglview master branch: https://github.com/arose/nglview\n",
    "- jamber master branch: https://github.com/hainm/jamber\n",
    "- AmberTools"
   ]
  },
  {
   "cell_type": "markdown",
   "metadata": {},
   "source": [
    "# Import stuff"
   ]
  },
  {
   "cell_type": "code",
   "execution_count": 10,
   "metadata": {
    "collapsed": true
   },
   "outputs": [],
   "source": [
    "from jamber import leap, sander\n",
    "\n",
    "# use \"ambertools\" instead of \"jamber\"?"
   ]
  },
  {
   "cell_type": "markdown",
   "metadata": {},
   "source": [
    "# Leap build"
   ]
  },
  {
   "cell_type": "code",
   "execution_count": 11,
   "metadata": {
    "collapsed": true
   },
   "outputs": [],
   "source": [
    "leap.build(\"\"\"\n",
    "source leaprc.protein.ff14SBonlysc\n",
    "seq = sequence{ ALA ALA ALA}\n",
    "saveamberparm seq prmtop seq.rst7\n",
    "\"\"\")"
   ]
  },
  {
   "cell_type": "markdown",
   "metadata": {},
   "source": [
    "# Visualize leap outputs"
   ]
  },
  {
   "cell_type": "code",
   "execution_count": 12,
   "metadata": {
    "collapsed": false
   },
   "outputs": [],
   "source": [
    "import pytraj as pt\n",
    "\n",
    "traj = pt.load('seq.rst7', top='prmtop')\n",
    "traj.visualize()"
   ]
  },
  {
   "cell_type": "markdown",
   "metadata": {},
   "source": [
    "# Create md input"
   ]
  },
  {
   "cell_type": "code",
   "execution_count": 13,
   "metadata": {
    "collapsed": false
   },
   "outputs": [
    {
     "name": "stdout",
     "output_type": "stream",
     "text": [
      "Overwriting md.in\n"
     ]
    }
   ],
   "source": [
    "%%file md.in\n",
    "\n",
    "Langevin dynamics simulations\n",
    "&cntrl\n",
    "   ntx = 1, irest=0,\n",
    "   imin = 0, nstlim = 500000, dt = 0.002,\n",
    "   ntt = 3, gamma_ln=1., temp0 = 300.0, tempi=300.,\n",
    "   ntc= 2, ntf = 2,\n",
    "   igb=8, ntb = 0,\n",
    "   ntwx = 500, ntwe = 0, ntwr = 500, ntpr = 500,\n",
    "   cut = 999.0,\n",
    "   nscm = 500,\n",
    "/\n",
    "&end"
   ]
  },
  {
   "cell_type": "markdown",
   "metadata": {},
   "source": [
    "# Run sander"
   ]
  },
  {
   "cell_type": "code",
   "execution_count": 14,
   "metadata": {
    "collapsed": false
   },
   "outputs": [],
   "source": [
    "job = sander.run(\"-O -p {} -c {} -i md.in\".format('prmtop', 'seq.rst7'))"
   ]
  },
  {
   "cell_type": "markdown",
   "metadata": {},
   "source": [
    "# Real time monitoring simulation"
   ]
  },
  {
   "cell_type": "code",
   "execution_count": 15,
   "metadata": {
    "collapsed": true
   },
   "outputs": [],
   "source": [
    "from nglview.sandbox.amber import AmberMD\n",
    "\n",
    "ambermd = AmberMD(top='prmtop', restart='restrt', reference='seq.rst7')\n",
    "ambermd.initialize()"
   ]
  },
  {
   "cell_type": "code",
   "execution_count": 16,
   "metadata": {
    "collapsed": true
   },
   "outputs": [],
   "source": [
    "ambermd.update()"
   ]
  },
  {
   "cell_type": "markdown",
   "metadata": {},
   "source": [
    "# Stop sander job"
   ]
  },
  {
   "cell_type": "code",
   "execution_count": 17,
   "metadata": {
    "collapsed": true
   },
   "outputs": [],
   "source": [
    "# un-comment\n",
    "job.terminate()"
   ]
  }
 ],
 "metadata": {
  "anaconda-cloud": {},
  "kernelspec": {
   "display_name": "Python 3",
   "language": "python",
   "name": "python3"
  },
  "language_info": {
   "codemirror_mode": {
    "name": "ipython",
    "version": 3
   },
   "file_extension": ".py",
   "mimetype": "text/x-python",
   "name": "python",
   "nbconvert_exporter": "python",
   "pygments_lexer": "ipython3",
   "version": "3.5.1"
  }
 },
 "nbformat": 4,
 "nbformat_minor": 0
}
