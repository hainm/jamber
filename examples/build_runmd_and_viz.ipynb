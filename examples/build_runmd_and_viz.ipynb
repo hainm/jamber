{
 "cells": [
  {
   "cell_type": "markdown",
   "metadata": {},
   "source": [
    "# Require\n",
    "\n",
    "- pytraj: >= 1.0.9\n",
    "- nglview master branch: https://github.com/arose/nglview\n",
    "- jamber master branch: https://github.com/hainm/jamber\n",
    "- AmberTools"
   ]
  },
  {
   "cell_type": "markdown",
   "metadata": {},
   "source": [
    "# Import stuff"
   ]
  },
  {
   "cell_type": "code",
   "execution_count": 10,
   "metadata": {
    "collapsed": true
   },
   "outputs": [],
   "source": [
    "from jamber import leap, sander\n",
    "\n",
    "# use \"ambertools\" instead of \"jamber\"?"
   ]
  },
  {
   "cell_type": "markdown",
   "metadata": {},
   "source": [
    "# Leap build"
   ]
  },
  {
   "cell_type": "code",
   "execution_count": 11,
   "metadata": {
    "collapsed": true
   },
   "outputs": [],
   "source": [
    "leap.build(\"\"\"\n",
    "source leaprc.protein.ff14SBonlysc\n",
    "seq = sequence{ ALA ALA ALA}\n",
    "saveamberparm seq prmtop seq.rst7\n",
    "\"\"\")"
   ]
  },
  {
   "cell_type": "markdown",
   "metadata": {},
   "source": [
    "# Visualize leap outputs"
   ]
  },
  {
   "cell_type": "code",
   "execution_count": 12,
   "metadata": {
    "collapsed": false
   },
   "outputs": [],
   "source": [
    "import pytraj as pt\n",
    "\n",
    "traj = pt.load('seq.rst7', top='prmtop')\n",
    "traj.visualize()"
   ]
  },
  {
   "cell_type": "markdown",
   "metadata": {},
   "source": [
    "# Create md input"
   ]
  },
  {
   "cell_type": "code",
   "execution_count": 13,
   "metadata": {
    "collapsed": false
   },
   "outputs": [
    {
     "name": "stdout",
     "output_type": "stream",
     "text": [
      "Overwriting md.in\n"
     ]
    }
   ],
   "source": [
    "%%file md.in\n",
    "\n",
    "Langevin dynamics simulations\n",
    "&cntrl\n",
    "   ntx = 1, irest=0,\n",
    "   imin = 0, nstlim = 500000, dt = 0.002,\n",
    "   ntt = 3, gamma_ln=1., temp0 = 300.0, tempi=300.,\n",
    "   ntc= 2, ntf = 2,\n",
    "   igb=8, ntb = 0,\n",
    "   ntwx = 500, ntwe = 0, ntwr = 500, ntpr = 500,\n",
    "   cut = 999.0,\n",
    "   nscm = 500,\n",
    "/\n",
    "&end"
   ]
  },
  {
   "cell_type": "markdown",
   "metadata": {},
   "source": [
    "# Run sander"
   ]
  },
  {
   "cell_type": "code",
   "execution_count": 14,
   "metadata": {
    "collapsed": false
   },
   "outputs": [],
   "source": [
    "job = sander.run(\"-O -p {} -c {} -i md.in\".format('prmtop', 'seq.rst7'))"
   ]
  },
  {
   "cell_type": "markdown",
   "metadata": {},
   "source": [
    "# Real time monitoring simulation"
   ]
  },
  {
   "cell_type": "code",
   "execution_count": 15,
   "metadata": {
    "collapsed": true
   },
   "outputs": [],
   "source": [
    "from nglview.sandbox.amber import AmberMD\n",
    "\n",
    "ambermd = AmberMD(top='prmtop', restart='restrt', reference='seq.rst7')\n",
    "ambermd.initialize()"
   ]
  },
  {
   "cell_type": "code",
   "execution_count": 16,
   "metadata": {
    "collapsed": true
   },
   "outputs": [],
   "source": [
    "ambermd.update()"
   ]
  },
  {
   "cell_type": "markdown",
   "metadata": {},
   "source": [
    "# Stop sander job"
   ]
  },
  {
   "cell_type": "code",
   "execution_count": 17,
   "metadata": {
    "collapsed": true
   },
   "outputs": [],
   "source": [
    "# un-comment\n",
    "job.terminate()"
   ]
  }
 ],
 "metadata": {
  "anaconda-cloud": {},
  "kernelspec": {
   "display_name": "Python [default]",
   "language": "python",
   "name": "python3"
  },
  "language_info": {
   "codemirror_mode": {
    "name": "ipython",
    "version": 3
   },
   "file_extension": ".py",
   "mimetype": "text/x-python",
   "name": "python",
   "nbconvert_exporter": "python",
   "pygments_lexer": "ipython3",
   "version": "3.5.1"
  },
  "widgets": {
   "state": {
    "1dc9c3597c404a83b7caad77e1d37ea2": {
     "views": [
      {
       "cell_index": 2
      }
     ]
    },
    "24ec18ff30cc4005b2de6c159c73825d": {
     "views": [
      {
       "cell_index": 11
      }
     ]
    },
    "2e1f6b86d50a49a0aea9bf002b67ea5a": {
     "views": [
      {
       "cell_index": 5
      }
     ]
    },
    "5fc70373dfb845febcda069f9075c6f0": {
     "views": [
      {
       "cell_index": 12
      }
     ]
    },
    "7a34f74dcb1a4e85b0d341d6e5550ee2": {
     "views": [
      {
       "cell_index": 6
      }
     ]
    },
    "90beedeedd224ee2a127aced4548a33e": {
     "views": [
      {
       "cell_index": 2
      }
     ]
    },
    "a4216728ca474f28a5a77989ffd0f482": {
     "views": [
      {
       "cell_index": 5
      }
     ]
    },
    "ce24e43a41214eb3951ebb3ab51b0dfa": {
     "views": [
      {
       "cell_index": 6
      }
     ]
    },
    "f66ec50c02a74a2d9c5a33ca5d4a7c03": {
     "views": [
      {
       "cell_index": 12
      }
     ]
    },
    "fa23907ae8154b33a48a4c50116f75f0": {
     "views": [
      {
       "cell_index": 11
      }
     ]
    }
   },
   "version": "1.2.0"
  }
 },
 "nbformat": 4,
 "nbformat_minor": 0
}
