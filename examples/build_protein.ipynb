{
 "cells": [
  {
   "cell_type": "code",
   "execution_count": 1,
   "metadata": {
    "collapsed": true
   },
   "outputs": [],
   "source": [
    "from jamber.builder import build_protein"
   ]
  },
  {
   "cell_type": "code",
   "execution_count": 2,
   "metadata": {
    "collapsed": false
   },
   "outputs": [
    {
     "name": "stdout",
     "output_type": "stream",
     "text": [
      "ALA ALA ALA ALA ALA ALA ALA ALA ALA ALA\n"
     ]
    }
   ],
   "source": [
    "seq = ' '.join(['ALA']*10)\n",
    "print(seq)"
   ]
  },
  {
   "cell_type": "code",
   "execution_count": 3,
   "metadata": {
    "collapsed": true
   },
   "outputs": [],
   "source": [
    "representations = [\n",
    "    {'type': 'licorice'},\n",
    "    {'type': 'cartoon'}\n",
    "]"
   ]
  },
  {
   "cell_type": "markdown",
   "metadata": {},
   "source": [
    "# Alapha"
   ]
  },
  {
   "cell_type": "code",
   "execution_count": 4,
   "metadata": {
    "collapsed": false
   },
   "outputs": [],
   "source": [
    "traj = build_protein(seq, 'alpha:1-10')\n",
    "traj.visualize(representations=representations)"
   ]
  },
  {
   "cell_type": "markdown",
   "metadata": {},
   "source": [
    "# Custom"
   ]
  },
  {
   "cell_type": "code",
   "execution_count": 5,
   "metadata": {
    "collapsed": false
   },
   "outputs": [],
   "source": [
    "build_command = \"extended:1,10 custom1:2-5:-80.0:130.0:-130.0:140.0 typeI':6-7 custom2:8-9:-140.0:170.0:-100.0:140.0\""
   ]
  },
  {
   "cell_type": "code",
   "execution_count": 6,
   "metadata": {
    "collapsed": true
   },
   "outputs": [],
   "source": [
    "traj = build_protein(seq, build_command)\n",
    "view = traj.visualize(representations=representations)\n",
    "view"
   ]
  },
  {
   "cell_type": "code",
   "execution_count": 7,
   "metadata": {
    "collapsed": true
   },
   "outputs": [],
   "source": [
    "build_command = \"customdih:5:phi:90 custom:6,7:-70:60\"\n",
    "traj = build_protein(seq, build_command)\n",
    "view = traj.visualize(representations=representations)\n",
    "view"
   ]
  },
  {
   "cell_type": "code",
   "execution_count": 8,
   "metadata": {
    "collapsed": true
   },
   "outputs": [],
   "source": [
    "build_command = \"chi1:8:N:CA:CB:CG:35\"\n",
    "traj = build_protein(seq, build_command)\n",
    "view = traj.visualize(representations=representations)\n",
    "view"
   ]
  }
 ],
 "metadata": {
  "anaconda-cloud": {},
  "kernelspec": {
   "display_name": "Python [default]",
   "language": "python",
   "name": "python3"
  },
  "language_info": {
   "codemirror_mode": {
    "name": "ipython",
    "version": 3
   },
   "file_extension": ".py",
   "mimetype": "text/x-python",
   "name": "python",
   "nbconvert_exporter": "python",
   "pygments_lexer": "ipython3",
   "version": "3.5.1"
  },
  "widgets": {
   "state": {
    "290f7b92d11048199fade83131e7d85a": {
     "views": [
      {
       "cell_index": 7
      }
     ]
    },
    "305ade07ceba433b91eee9daed4c22a3": {
     "views": [
      {
       "cell_index": 4
      }
     ]
    },
    "35e0a491545b46d4adc4ca6a0c78f5ff": {
     "views": [
      {
       "cell_index": 8
      }
     ]
    },
    "4209562805f443cca9f5f6c7c685faec": {
     "views": [
      {
       "cell_index": 9
      }
     ]
    },
    "4543e4adfb5c4077b7e98ee1971b2d2c": {
     "views": [
      {
       "cell_index": 8
      }
     ]
    },
    "53afb4df5137482992e4fa1c98ec7aee": {
     "views": [
      {
       "cell_index": 9
      }
     ]
    },
    "78db63d0830d4ba0909b018b33919ff7": {
     "views": [
      {
       "cell_index": 4
      }
     ]
    },
    "fbcbed60e40744619a34b55ad4a95f75": {
     "views": [
      {
       "cell_index": 7
      }
     ]
    }
   },
   "version": "1.2.0"
  }
 },
 "nbformat": 4,
 "nbformat_minor": 0
}
